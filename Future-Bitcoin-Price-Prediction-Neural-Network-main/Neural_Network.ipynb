{
  "cells": [
    {
      "cell_type": "code",
      "execution_count": null,
      "metadata": {
        "id": "8fOS8jMzsmFE"
      },
      "outputs": [],
      "source": [
        "import tensorflow as tf \n",
        "from tensorflow import keras \n",
        "import numpy as np \n",
        "import pandas as pd \n",
        "import datetime as dt\n",
        "from matplotlib import pyplot as plt"
      ]
    },
    {
      "cell_type": "code",
      "execution_count": null,
      "metadata": {
        "id": "0jod63QKsmFM"
      },
      "outputs": [],
      "source": [
        "# Load in the data\n",
        "dataset = pd.read_csv('/content/coin_Bitcoin.csv', index_col='Name', parse_dates=True)"
      ]
    },
    {
      "cell_type": "code",
      "execution_count": null,
      "metadata": {
        "colab": {
          "base_uri": "https://localhost:8080/",
          "height": 238
        },
        "id": "XxLqytH4smFO",
        "outputId": "66908fa3-8df4-4a8b-e391-fce2dcefe193"
      },
      "outputs": [
        {
          "output_type": "execute_result",
          "data": {
            "text/plain": [
              "         SNo Symbol                 Date        High         Low        Open  \\\n",
              "Name                                                                           \n",
              "Bitcoin    1    BTC  2013-04-29 23:59:59  147.488007  134.000000  134.444000   \n",
              "Bitcoin    2    BTC  2013-04-30 23:59:59  146.929993  134.050003  144.000000   \n",
              "Bitcoin    3    BTC  2013-05-01 23:59:59  139.889999  107.720001  139.000000   \n",
              "Bitcoin    4    BTC  2013-05-02 23:59:59  125.599998   92.281898  116.379997   \n",
              "Bitcoin    5    BTC  2013-05-03 23:59:59  108.127998   79.099998  106.250000   \n",
              "\n",
              "              Close  Volume     Marketcap  \n",
              "Name                                       \n",
              "Bitcoin  144.539993     0.0  1.603769e+09  \n",
              "Bitcoin  139.000000     0.0  1.542813e+09  \n",
              "Bitcoin  116.989998     0.0  1.298955e+09  \n",
              "Bitcoin  105.209999     0.0  1.168517e+09  \n",
              "Bitcoin   97.750000     0.0  1.085995e+09  "
            ],
            "text/html": [
              "\n",
              "  <div id=\"df-f7583af7-8001-4d21-91a5-2bb353e79951\">\n",
              "    <div class=\"colab-df-container\">\n",
              "      <div>\n",
              "<style scoped>\n",
              "    .dataframe tbody tr th:only-of-type {\n",
              "        vertical-align: middle;\n",
              "    }\n",
              "\n",
              "    .dataframe tbody tr th {\n",
              "        vertical-align: top;\n",
              "    }\n",
              "\n",
              "    .dataframe thead th {\n",
              "        text-align: right;\n",
              "    }\n",
              "</style>\n",
              "<table border=\"1\" class=\"dataframe\">\n",
              "  <thead>\n",
              "    <tr style=\"text-align: right;\">\n",
              "      <th></th>\n",
              "      <th>SNo</th>\n",
              "      <th>Symbol</th>\n",
              "      <th>Date</th>\n",
              "      <th>High</th>\n",
              "      <th>Low</th>\n",
              "      <th>Open</th>\n",
              "      <th>Close</th>\n",
              "      <th>Volume</th>\n",
              "      <th>Marketcap</th>\n",
              "    </tr>\n",
              "    <tr>\n",
              "      <th>Name</th>\n",
              "      <th></th>\n",
              "      <th></th>\n",
              "      <th></th>\n",
              "      <th></th>\n",
              "      <th></th>\n",
              "      <th></th>\n",
              "      <th></th>\n",
              "      <th></th>\n",
              "      <th></th>\n",
              "    </tr>\n",
              "  </thead>\n",
              "  <tbody>\n",
              "    <tr>\n",
              "      <th>Bitcoin</th>\n",
              "      <td>1</td>\n",
              "      <td>BTC</td>\n",
              "      <td>2013-04-29 23:59:59</td>\n",
              "      <td>147.488007</td>\n",
              "      <td>134.000000</td>\n",
              "      <td>134.444000</td>\n",
              "      <td>144.539993</td>\n",
              "      <td>0.0</td>\n",
              "      <td>1.603769e+09</td>\n",
              "    </tr>\n",
              "    <tr>\n",
              "      <th>Bitcoin</th>\n",
              "      <td>2</td>\n",
              "      <td>BTC</td>\n",
              "      <td>2013-04-30 23:59:59</td>\n",
              "      <td>146.929993</td>\n",
              "      <td>134.050003</td>\n",
              "      <td>144.000000</td>\n",
              "      <td>139.000000</td>\n",
              "      <td>0.0</td>\n",
              "      <td>1.542813e+09</td>\n",
              "    </tr>\n",
              "    <tr>\n",
              "      <th>Bitcoin</th>\n",
              "      <td>3</td>\n",
              "      <td>BTC</td>\n",
              "      <td>2013-05-01 23:59:59</td>\n",
              "      <td>139.889999</td>\n",
              "      <td>107.720001</td>\n",
              "      <td>139.000000</td>\n",
              "      <td>116.989998</td>\n",
              "      <td>0.0</td>\n",
              "      <td>1.298955e+09</td>\n",
              "    </tr>\n",
              "    <tr>\n",
              "      <th>Bitcoin</th>\n",
              "      <td>4</td>\n",
              "      <td>BTC</td>\n",
              "      <td>2013-05-02 23:59:59</td>\n",
              "      <td>125.599998</td>\n",
              "      <td>92.281898</td>\n",
              "      <td>116.379997</td>\n",
              "      <td>105.209999</td>\n",
              "      <td>0.0</td>\n",
              "      <td>1.168517e+09</td>\n",
              "    </tr>\n",
              "    <tr>\n",
              "      <th>Bitcoin</th>\n",
              "      <td>5</td>\n",
              "      <td>BTC</td>\n",
              "      <td>2013-05-03 23:59:59</td>\n",
              "      <td>108.127998</td>\n",
              "      <td>79.099998</td>\n",
              "      <td>106.250000</td>\n",
              "      <td>97.750000</td>\n",
              "      <td>0.0</td>\n",
              "      <td>1.085995e+09</td>\n",
              "    </tr>\n",
              "  </tbody>\n",
              "</table>\n",
              "</div>\n",
              "      <button class=\"colab-df-convert\" onclick=\"convertToInteractive('df-f7583af7-8001-4d21-91a5-2bb353e79951')\"\n",
              "              title=\"Convert this dataframe to an interactive table.\"\n",
              "              style=\"display:none;\">\n",
              "        \n",
              "  <svg xmlns=\"http://www.w3.org/2000/svg\" height=\"24px\"viewBox=\"0 0 24 24\"\n",
              "       width=\"24px\">\n",
              "    <path d=\"M0 0h24v24H0V0z\" fill=\"none\"/>\n",
              "    <path d=\"M18.56 5.44l.94 2.06.94-2.06 2.06-.94-2.06-.94-.94-2.06-.94 2.06-2.06.94zm-11 1L8.5 8.5l.94-2.06 2.06-.94-2.06-.94L8.5 2.5l-.94 2.06-2.06.94zm10 10l.94 2.06.94-2.06 2.06-.94-2.06-.94-.94-2.06-.94 2.06-2.06.94z\"/><path d=\"M17.41 7.96l-1.37-1.37c-.4-.4-.92-.59-1.43-.59-.52 0-1.04.2-1.43.59L10.3 9.45l-7.72 7.72c-.78.78-.78 2.05 0 2.83L4 21.41c.39.39.9.59 1.41.59.51 0 1.02-.2 1.41-.59l7.78-7.78 2.81-2.81c.8-.78.8-2.07 0-2.86zM5.41 20L4 18.59l7.72-7.72 1.47 1.35L5.41 20z\"/>\n",
              "  </svg>\n",
              "      </button>\n",
              "      \n",
              "  <style>\n",
              "    .colab-df-container {\n",
              "      display:flex;\n",
              "      flex-wrap:wrap;\n",
              "      gap: 12px;\n",
              "    }\n",
              "\n",
              "    .colab-df-convert {\n",
              "      background-color: #E8F0FE;\n",
              "      border: none;\n",
              "      border-radius: 50%;\n",
              "      cursor: pointer;\n",
              "      display: none;\n",
              "      fill: #1967D2;\n",
              "      height: 32px;\n",
              "      padding: 0 0 0 0;\n",
              "      width: 32px;\n",
              "    }\n",
              "\n",
              "    .colab-df-convert:hover {\n",
              "      background-color: #E2EBFA;\n",
              "      box-shadow: 0px 1px 2px rgba(60, 64, 67, 0.3), 0px 1px 3px 1px rgba(60, 64, 67, 0.15);\n",
              "      fill: #174EA6;\n",
              "    }\n",
              "\n",
              "    [theme=dark] .colab-df-convert {\n",
              "      background-color: #3B4455;\n",
              "      fill: #D2E3FC;\n",
              "    }\n",
              "\n",
              "    [theme=dark] .colab-df-convert:hover {\n",
              "      background-color: #434B5C;\n",
              "      box-shadow: 0px 1px 3px 1px rgba(0, 0, 0, 0.15);\n",
              "      filter: drop-shadow(0px 1px 2px rgba(0, 0, 0, 0.3));\n",
              "      fill: #FFFFFF;\n",
              "    }\n",
              "  </style>\n",
              "\n",
              "      <script>\n",
              "        const buttonEl =\n",
              "          document.querySelector('#df-f7583af7-8001-4d21-91a5-2bb353e79951 button.colab-df-convert');\n",
              "        buttonEl.style.display =\n",
              "          google.colab.kernel.accessAllowed ? 'block' : 'none';\n",
              "\n",
              "        async function convertToInteractive(key) {\n",
              "          const element = document.querySelector('#df-f7583af7-8001-4d21-91a5-2bb353e79951');\n",
              "          const dataTable =\n",
              "            await google.colab.kernel.invokeFunction('convertToInteractive',\n",
              "                                                     [key], {});\n",
              "          if (!dataTable) return;\n",
              "\n",
              "          const docLinkHtml = 'Like what you see? Visit the ' +\n",
              "            '<a target=\"_blank\" href=https://colab.research.google.com/notebooks/data_table.ipynb>data table notebook</a>'\n",
              "            + ' to learn more about interactive tables.';\n",
              "          element.innerHTML = '';\n",
              "          dataTable['output_type'] = 'display_data';\n",
              "          await google.colab.output.renderOutput(dataTable, element);\n",
              "          const docLink = document.createElement('div');\n",
              "          docLink.innerHTML = docLinkHtml;\n",
              "          element.appendChild(docLink);\n",
              "        }\n",
              "      </script>\n",
              "    </div>\n",
              "  </div>\n",
              "  "
            ]
          },
          "metadata": {},
          "execution_count": 5
        }
      ],
      "source": [
        "dataset.head()"
      ]
    },
    {
      "cell_type": "code",
      "execution_count": null,
      "metadata": {
        "colab": {
          "base_uri": "https://localhost:8080/"
        },
        "id": "1RFq3aFLsmFR",
        "outputId": "d498a2a0-f0d7-4821-d2fb-f43140ef4c0f"
      },
      "outputs": [
        {
          "output_type": "execute_result",
          "data": {
            "text/plain": [
              "SNo          False\n",
              "Symbol       False\n",
              "Date         False\n",
              "High         False\n",
              "Low          False\n",
              "Open         False\n",
              "Close        False\n",
              "Volume       False\n",
              "Marketcap    False\n",
              "dtype: bool"
            ]
          },
          "metadata": {},
          "execution_count": 6
        }
      ],
      "source": [
        "dataset.isna().any()"
      ]
    },
    {
      "cell_type": "code",
      "execution_count": null,
      "metadata": {
        "colab": {
          "base_uri": "https://localhost:8080/"
        },
        "id": "-UW0jRyusmFT",
        "outputId": "ce208bc3-c2b5-468d-89d8-8f398407ad8f"
      },
      "outputs": [
        {
          "output_type": "stream",
          "name": "stdout",
          "text": [
            "<class 'pandas.core.frame.DataFrame'>\n",
            "Index: 2862 entries, Bitcoin to Bitcoin\n",
            "Data columns (total 9 columns):\n",
            " #   Column     Non-Null Count  Dtype  \n",
            "---  ------     --------------  -----  \n",
            " 0   SNo        2862 non-null   int64  \n",
            " 1   Symbol     2862 non-null   object \n",
            " 2   Date       2862 non-null   object \n",
            " 3   High       2862 non-null   float64\n",
            " 4   Low        2862 non-null   float64\n",
            " 5   Open       2862 non-null   float64\n",
            " 6   Close      2862 non-null   float64\n",
            " 7   Volume     2862 non-null   float64\n",
            " 8   Marketcap  2862 non-null   float64\n",
            "dtypes: float64(6), int64(1), object(2)\n",
            "memory usage: 223.6+ KB\n"
          ]
        }
      ],
      "source": [
        "# Getting some information on the dataset\n",
        "dataset.info()"
      ]
    },
    {
      "cell_type": "code",
      "execution_count": null,
      "metadata": {
        "colab": {
          "base_uri": "https://localhost:8080/",
          "height": 391
        },
        "id": "OWWjQvUismFU",
        "outputId": "a2af6349-f6c8-489c-c877-017fd7ac5a38"
      },
      "outputs": [
        {
          "output_type": "execute_result",
          "data": {
            "text/plain": [
              "<matplotlib.axes._subplots.AxesSubplot at 0x7f6dd605c0d0>"
            ]
          },
          "metadata": {},
          "execution_count": 8
        },
        {
          "output_type": "display_data",
          "data": {
            "text/plain": [
              "<Figure size 1152x432 with 1 Axes>"
            ],
            "image/png": "[encoded data removed]"
          },
          "metadata": {
            "needs_background": "light"
          }
        }
      ],
      "source": [
        "# Plotting some of the data\n",
        "dataset['High'].hist(figsize=(16,6))"
      ]
    },
    {
      "cell_type": "code",
      "execution_count": null,
      "metadata": {
        "colab": {
          "base_uri": "https://localhost:8080/",
          "height": 708
        },
        "id": "6xpOQVTPsmFV",
        "outputId": "8c8a4032-3cd3-425c-c954-3fec6b974e28"
      },
      "outputs": [
        {
          "output_type": "execute_result",
          "data": {
            "text/plain": [
              "          SNo        High         Low        Open       Close  Volume  \\\n",
              "Name                                                                    \n",
              "Bitcoin   NaN         NaN         NaN         NaN         NaN     NaN   \n",
              "Bitcoin   NaN         NaN         NaN         NaN         NaN     NaN   \n",
              "Bitcoin   NaN         NaN         NaN         NaN         NaN     NaN   \n",
              "Bitcoin   NaN         NaN         NaN         NaN         NaN     NaN   \n",
              "Bitcoin   NaN         NaN         NaN         NaN         NaN     NaN   \n",
              "Bitcoin   NaN         NaN         NaN         NaN         NaN     NaN   \n",
              "Bitcoin   4.0  128.833714  106.684986  121.582000  118.842856     0.0   \n",
              "Bitcoin   5.0  125.572999  102.776414  118.944286  114.237143     0.0   \n",
              "Bitcoin   6.0  120.789286   97.583556  114.408572  110.308572     0.0   \n",
              "Bitcoin   7.0  117.345000   97.852127  110.208571  109.819430     0.0   \n",
              "Bitcoin   8.0  115.610715  100.277570  109.754286  110.885144     0.0   \n",
              "Bitcoin   9.0  117.592429  104.913428  110.689857  113.663715     0.0   \n",
              "Bitcoin  10.0  118.118001  107.843428  113.489857  114.055571     0.0   \n",
              "Bitcoin  11.0  117.925000  108.742286  113.881286  113.925571     0.0   \n",
              "Bitcoin  12.0  117.072999  109.865143  113.715571  114.737000     0.0   \n",
              "Bitcoin  13.0  117.981000  111.658000  114.534143  114.737000     0.0   \n",
              "Bitcoin  14.0  117.985285  110.786572  114.791286  114.830428     0.0   \n",
              "Bitcoin  15.0  118.742428  111.206571  114.937001  115.700429     0.0   \n",
              "Bitcoin  16.0  119.213857  111.923714  115.710000  116.531143     0.0   \n",
              "Bitcoin  17.0  120.152572  113.250857  116.538572  117.710430     0.0   \n",
              "\n",
              "            Marketcap  \n",
              "Name                   \n",
              "Bitcoin           NaN  \n",
              "Bitcoin           NaN  \n",
              "Bitcoin           NaN  \n",
              "Bitcoin           NaN  \n",
              "Bitcoin           NaN  \n",
              "Bitcoin           NaN  \n",
              "Bitcoin  1.319866e+09  \n",
              "Bitcoin  1.269188e+09  \n",
              "Bitcoin  1.226013e+09  \n",
              "Bitcoin  1.221027e+09  \n",
              "Bitcoin  1.233315e+09  \n",
              "Bitcoin  1.264670e+09  \n",
              "Bitcoin  1.269512e+09  \n",
              "Bitcoin  1.268553e+09  \n",
              "Bitcoin  1.278080e+09  \n",
              "Bitcoin  1.278548e+09  \n",
              "Bitcoin  1.280059e+09  \n",
              "Bitcoin  1.290229e+09  \n",
              "Bitcoin  1.299978e+09  \n",
              "Bitcoin  1.313602e+09  "
            ],
            "text/html": [
              "\n",
              "  <div id=\"df-ac11327f-eebb-4705-a3d2-67eadabca909\">\n",
              "    <div class=\"colab-df-container\">\n",
              "      <div>\n",
              "<style scoped>\n",
              "    .dataframe tbody tr th:only-of-type {\n",
              "        vertical-align: middle;\n",
              "    }\n",
              "\n",
              "    .dataframe tbody tr th {\n",
              "        vertical-align: top;\n",
              "    }\n",
              "\n",
              "    .dataframe thead th {\n",
              "        text-align: right;\n",
              "    }\n",
              "</style>\n",
              "<table border=\"1\" class=\"dataframe\">\n",
              "  <thead>\n",
              "    <tr style=\"text-align: right;\">\n",
              "      <th></th>\n",
              "      <th>SNo</th>\n",
              "      <th>High</th>\n",
              "      <th>Low</th>\n",
              "      <th>Open</th>\n",
              "      <th>Close</th>\n",
              "      <th>Volume</th>\n",
              "      <th>Marketcap</th>\n",
              "    </tr>\n",
              "    <tr>\n",
              "      <th>Name</th>\n",
              "      <th></th>\n",
              "      <th></th>\n",
              "      <th></th>\n",
              "      <th></th>\n",
              "      <th></th>\n",
              "      <th></th>\n",
              "      <th></th>\n",
              "    </tr>\n",
              "  </thead>\n",
              "  <tbody>\n",
              "    <tr>\n",
              "      <th>Bitcoin</th>\n",
              "      <td>NaN</td>\n",
              "      <td>NaN</td>\n",
              "      <td>NaN</td>\n",
              "      <td>NaN</td>\n",
              "      <td>NaN</td>\n",
              "      <td>NaN</td>\n",
              "      <td>NaN</td>\n",
              "    </tr>\n",
              "    <tr>\n",
              "      <th>Bitcoin</th>\n",
              "      <td>NaN</td>\n",
              "      <td>NaN</td>\n",
              "      <td>NaN</td>\n",
              "      <td>NaN</td>\n",
              "      <td>NaN</td>\n",
              "      <td>NaN</td>\n",
              "      <td>NaN</td>\n",
              "    </tr>\n",
              "    <tr>\n",
              "      <th>Bitcoin</th>\n",
              "      <td>NaN</td>\n",
              "      <td>NaN</td>\n",
              "      <td>NaN</td>\n",
              "      <td>NaN</td>\n",
              "      <td>NaN</td>\n",
              "      <td>NaN</td>\n",
              "      <td>NaN</td>\n",
              "    </tr>\n",
              "    <tr>\n",
              "      <th>Bitcoin</th>\n",
              "      <td>NaN</td>\n",
              "      <td>NaN</td>\n",
              "      <td>NaN</td>\n",
              "      <td>NaN</td>\n",
              "      <td>NaN</td>\n",
              "      <td>NaN</td>\n",
              "      <td>NaN</td>\n",
              "    </tr>\n",
              "    <tr>\n",
              "      <th>Bitcoin</th>\n",
              "      <td>NaN</td>\n",
              "      <td>NaN</td>\n",
              "      <td>NaN</td>\n",
              "      <td>NaN</td>\n",
              "      <td>NaN</td>\n",
              "      <td>NaN</td>\n",
              "      <td>NaN</td>\n",
              "    </tr>\n",
              "    <tr>\n",
              "      <th>Bitcoin</th>\n",
              "      <td>NaN</td>\n",
              "      <td>NaN</td>\n",
              "      <td>NaN</td>\n",
              "      <td>NaN</td>\n",
              "      <td>NaN</td>\n",
              "      <td>NaN</td>\n",
              "      <td>NaN</td>\n",
              "    </tr>\n",
              "    <tr>\n",
              "      <th>Bitcoin</th>\n",
              "      <td>4.0</td>\n",
              "      <td>128.833714</td>\n",
              "      <td>106.684986</td>\n",
              "      <td>121.582000</td>\n",
              "      <td>118.842856</td>\n",
              "      <td>0.0</td>\n",
              "      <td>1.319866e+09</td>\n",
              "    </tr>\n",
              "    <tr>\n",
              "      <th>Bitcoin</th>\n",
              "      <td>5.0</td>\n",
              "      <td>125.572999</td>\n",
              "      <td>102.776414</td>\n",
              "      <td>118.944286</td>\n",
              "      <td>114.237143</td>\n",
              "      <td>0.0</td>\n",
              "      <td>1.269188e+09</td>\n",
              "    </tr>\n",
              "    <tr>\n",
              "      <th>Bitcoin</th>\n",
              "      <td>6.0</td>\n",
              "      <td>120.789286</td>\n",
              "      <td>97.583556</td>\n",
              "      <td>114.408572</td>\n",
              "      <td>110.308572</td>\n",
              "      <td>0.0</td>\n",
              "      <td>1.226013e+09</td>\n",
              "    </tr>\n",
              "    <tr>\n",
              "      <th>Bitcoin</th>\n",
              "      <td>7.0</td>\n",
              "      <td>117.345000</td>\n",
              "      <td>97.852127</td>\n",
              "      <td>110.208571</td>\n",
              "      <td>109.819430</td>\n",
              "      <td>0.0</td>\n",
              "      <td>1.221027e+09</td>\n",
              "    </tr>\n",
              "    <tr>\n",
              "      <th>Bitcoin</th>\n",
              "      <td>8.0</td>\n",
              "      <td>115.610715</td>\n",
              "      <td>100.277570</td>\n",
              "      <td>109.754286</td>\n",
              "      <td>110.885144</td>\n",
              "      <td>0.0</td>\n",
              "      <td>1.233315e+09</td>\n",
              "    </tr>\n",
              "    <tr>\n",
              "      <th>Bitcoin</th>\n",
              "      <td>9.0</td>\n",
              "      <td>117.592429</td>\n",
              "      <td>104.913428</td>\n",
              "      <td>110.689857</td>\n",
              "      <td>113.663715</td>\n",
              "      <td>0.0</td>\n",
              "      <td>1.264670e+09</td>\n",
              "    </tr>\n",
              "    <tr>\n",
              "      <th>Bitcoin</th>\n",
              "      <td>10.0</td>\n",
              "      <td>118.118001</td>\n",
              "      <td>107.843428</td>\n",
              "      <td>113.489857</td>\n",
              "      <td>114.055571</td>\n",
              "      <td>0.0</td>\n",
              "      <td>1.269512e+09</td>\n",
              "    </tr>\n",
              "    <tr>\n",
              "      <th>Bitcoin</th>\n",
              "      <td>11.0</td>\n",
              "      <td>117.925000</td>\n",
              "      <td>108.742286</td>\n",
              "      <td>113.881286</td>\n",
              "      <td>113.925571</td>\n",
              "      <td>0.0</td>\n",
              "      <td>1.268553e+09</td>\n",
              "    </tr>\n",
              "    <tr>\n",
              "      <th>Bitcoin</th>\n",
              "      <td>12.0</td>\n",
              "      <td>117.072999</td>\n",
              "      <td>109.865143</td>\n",
              "      <td>113.715571</td>\n",
              "      <td>114.737000</td>\n",
              "      <td>0.0</td>\n",
              "      <td>1.278080e+09</td>\n",
              "    </tr>\n",
              "    <tr>\n",
              "      <th>Bitcoin</th>\n",
              "      <td>13.0</td>\n",
              "      <td>117.981000</td>\n",
              "      <td>111.658000</td>\n",
              "      <td>114.534143</td>\n",
              "      <td>114.737000</td>\n",
              "      <td>0.0</td>\n",
              "      <td>1.278548e+09</td>\n",
              "    </tr>\n",
              "    <tr>\n",
              "      <th>Bitcoin</th>\n",
              "      <td>14.0</td>\n",
              "      <td>117.985285</td>\n",
              "      <td>110.786572</td>\n",
              "      <td>114.791286</td>\n",
              "      <td>114.830428</td>\n",
              "      <td>0.0</td>\n",
              "      <td>1.280059e+09</td>\n",
              "    </tr>\n",
              "    <tr>\n",
              "      <th>Bitcoin</th>\n",
              "      <td>15.0</td>\n",
              "      <td>118.742428</td>\n",
              "      <td>111.206571</td>\n",
              "      <td>114.937001</td>\n",
              "      <td>115.700429</td>\n",
              "      <td>0.0</td>\n",
              "      <td>1.290229e+09</td>\n",
              "    </tr>\n",
              "    <tr>\n",
              "      <th>Bitcoin</th>\n",
              "      <td>16.0</td>\n",
              "      <td>119.213857</td>\n",
              "      <td>111.923714</td>\n",
              "      <td>115.710000</td>\n",
              "      <td>116.531143</td>\n",
              "      <td>0.0</td>\n",
              "      <td>1.299978e+09</td>\n",
              "    </tr>\n",
              "    <tr>\n",
              "      <th>Bitcoin</th>\n",
              "      <td>17.0</td>\n",
              "      <td>120.152572</td>\n",
              "      <td>113.250857</td>\n",
              "      <td>116.538572</td>\n",
              "      <td>117.710430</td>\n",
              "      <td>0.0</td>\n",
              "      <td>1.313602e+09</td>\n",
              "    </tr>\n",
              "  </tbody>\n",
              "</table>\n",
              "</div>\n",
              "      <button class=\"colab-df-convert\" onclick=\"convertToInteractive('df-ac11327f-eebb-4705-a3d2-67eadabca909')\"\n",
              "              title=\"Convert this dataframe to an interactive table.\"\n",
              "              style=\"display:none;\">\n",
              "        \n",
              "  <svg xmlns=\"http://www.w3.org/2000/svg\" height=\"24px\"viewBox=\"0 0 24 24\"\n",
              "       width=\"24px\">\n",
              "    <path d=\"M0 0h24v24H0V0z\" fill=\"none\"/>\n",
              "    <path d=\"M18.56 5.44l.94 2.06.94-2.06 2.06-.94-2.06-.94-.94-2.06-.94 2.06-2.06.94zm-11 1L8.5 8.5l.94-2.06 2.06-.94-2.06-.94L8.5 2.5l-.94 2.06-2.06.94zm10 10l.94 2.06.94-2.06 2.06-.94-2.06-.94-.94-2.06-.94 2.06-2.06.94z\"/><path d=\"M17.41 7.96l-1.37-1.37c-.4-.4-.92-.59-1.43-.59-.52 0-1.04.2-1.43.59L10.3 9.45l-7.72 7.72c-.78.78-.78 2.05 0 2.83L4 21.41c.39.39.9.59 1.41.59.51 0 1.02-.2 1.41-.59l7.78-7.78 2.81-2.81c.8-.78.8-2.07 0-2.86zM5.41 20L4 18.59l7.72-7.72 1.47 1.35L5.41 20z\"/>\n",
              "  </svg>\n",
              "      </button>\n",
              "      \n",
              "  <style>\n",
              "    .colab-df-container {\n",
              "      display:flex;\n",
              "      flex-wrap:wrap;\n",
              "      gap: 12px;\n",
              "    }\n",
              "\n",
              "    .colab-df-convert {\n",
              "      background-color: #E8F0FE;\n",
              "      border: none;\n",
              "      border-radius: 50%;\n",
              "      cursor: pointer;\n",
              "      display: none;\n",
              "      fill: #1967D2;\n",
              "      height: 32px;\n",
              "      padding: 0 0 0 0;\n",
              "      width: 32px;\n",
              "    }\n",
              "\n",
              "    .colab-df-convert:hover {\n",
              "      background-color: #E2EBFA;\n",
              "      box-shadow: 0px 1px 2px rgba(60, 64, 67, 0.3), 0px 1px 3px 1px rgba(60, 64, 67, 0.15);\n",
              "      fill: #174EA6;\n",
              "    }\n",
              "\n",
              "    [theme=dark] .colab-df-convert {\n",
              "      background-color: #3B4455;\n",
              "      fill: #D2E3FC;\n",
              "    }\n",
              "\n",
              "    [theme=dark] .colab-df-convert:hover {\n",
              "      background-color: #434B5C;\n",
              "      box-shadow: 0px 1px 3px 1px rgba(0, 0, 0, 0.15);\n",
              "      filter: drop-shadow(0px 1px 2px rgba(0, 0, 0, 0.3));\n",
              "      fill: #FFFFFF;\n",
              "    }\n",
              "  </style>\n",
              "\n",
              "      <script>\n",
              "        const buttonEl =\n",
              "          document.querySelector('#df-ac11327f-eebb-4705-a3d2-67eadabca909 button.colab-df-convert');\n",
              "        buttonEl.style.display =\n",
              "          google.colab.kernel.accessAllowed ? 'block' : 'none';\n",
              "\n",
              "        async function convertToInteractive(key) {\n",
              "          const element = document.querySelector('#df-ac11327f-eebb-4705-a3d2-67eadabca909');\n",
              "          const dataTable =\n",
              "            await google.colab.kernel.invokeFunction('convertToInteractive',\n",
              "                                                     [key], {});\n",
              "          if (!dataTable) return;\n",
              "\n",
              "          const docLinkHtml = 'Like what you see? Visit the ' +\n",
              "            '<a target=\"_blank\" href=https://colab.research.google.com/notebooks/data_table.ipynb>data table notebook</a>'\n",
              "            + ' to learn more about interactive tables.';\n",
              "          element.innerHTML = '';\n",
              "          dataTable['output_type'] = 'display_data';\n",
              "          await google.colab.output.renderOutput(dataTable, element);\n",
              "          const docLink = document.createElement('div');\n",
              "          docLink.innerHTML = docLinkHtml;\n",
              "          element.appendChild(docLink);\n",
              "        }\n",
              "      </script>\n",
              "    </div>\n",
              "  </div>\n",
              "  "
            ]
          },
          "metadata": {},
          "execution_count": 9
        }
      ],
      "source": [
        "# Blurring out the first seven lines of the dataset for predictions\n",
        "dataset.rolling(7).mean().head(20)"
      ]
    },
    {
      "cell_type": "code",
      "execution_count": null,
      "metadata": {
        "id": "LxRgnIIFsmFX"
      },
      "outputs": [],
      "source": [
        "training_set = dataset['Close']\n",
        "training_set = pd.DataFrame(training_set)"
      ]
    },
    {
      "cell_type": "code",
      "execution_count": null,
      "metadata": {
        "colab": {
          "base_uri": "https://localhost:8080/"
        },
        "id": "dWfR8PO0smFZ",
        "outputId": "c271fdd3-a6d5-4592-eb92-8133fce7cd06"
      },
      "outputs": [
        {
          "output_type": "stream",
          "name": "stdout",
          "text": [
            "                Close\n",
            "Name                 \n",
            "Bitcoin    144.539993\n",
            "Bitcoin    139.000000\n",
            "Bitcoin    116.989998\n",
            "Bitcoin    105.209999\n",
            "Bitcoin     97.750000\n",
            "...               ...\n",
            "Bitcoin  48824.426869\n",
            "Bitcoin  49705.333316\n",
            "Bitcoin  47093.853019\n",
            "Bitcoin  46339.760083\n",
            "Bitcoin  46188.451275\n",
            "\n",
            "[2862 rows x 1 columns]\n"
          ]
        }
      ],
      "source": [
        "print(training_set)"
      ]
    },
    {
      "cell_type": "code",
      "execution_count": null,
      "metadata": {
        "id": "EXt0LCXRsmFb"
      },
      "outputs": [],
      "source": [
        "# Doing the feature scaling in the data\n",
        "from sklearn.preprocessing import MinMaxScaler\n",
        "sc = MinMaxScaler(feature_range = (0, 1))\n",
        "training_set_scaled = sc.fit_transform(training_set)"
      ]
    },
    {
      "cell_type": "code",
      "execution_count": null,
      "metadata": {
        "colab": {
          "base_uri": "https://localhost:8080/"
        },
        "id": "ymJTj6uRsmFc",
        "outputId": "e246e0f1-4881-43e1-9dc9-fc3ec91326ac"
      },
      "outputs": [
        {
          "output_type": "stream",
          "name": "stdout",
          "text": [
            "[[[1.32429077e-03]\n",
            "  [1.22789530e-03]\n",
            "  [8.44922917e-04]\n",
            "  ...\n",
            "  [6.18027881e-04]\n",
            "  [6.18897930e-04]\n",
            "  [5.74301861e-04]]\n",
            "\n",
            " [[1.22789530e-03]\n",
            "  [8.44922917e-04]\n",
            "  [6.39951823e-04]\n",
            "  ...\n",
            "  [6.18897930e-04]\n",
            "  [5.74301861e-04]\n",
            "  [4.56194721e-04]]\n",
            "\n",
            " [[8.44922917e-04]\n",
            "  [6.39951823e-04]\n",
            "  [5.10148400e-04]\n",
            "  ...\n",
            "  [5.74301861e-04]\n",
            "  [4.56194721e-04]\n",
            "  [4.62194265e-04]]\n",
            "\n",
            " ...\n",
            "\n",
            " [[4.58811771e-01]\n",
            "  [4.55945256e-01]\n",
            "  [4.70082927e-01]\n",
            "  ...\n",
            "  [1.00000000e+00]\n",
            "  [9.42012582e-01]\n",
            "  [8.48350663e-01]]\n",
            "\n",
            " [[4.55945256e-01]\n",
            "  [4.70082927e-01]\n",
            "  [4.74913645e-01]\n",
            "  ...\n",
            "  [9.42012582e-01]\n",
            "  [8.48350663e-01]\n",
            "  [8.63678369e-01]]\n",
            "\n",
            " [[4.70082927e-01]\n",
            "  [4.74913645e-01]\n",
            "  [5.00639727e-01]\n",
            "  ...\n",
            "  [8.48350663e-01]\n",
            "  [8.63678369e-01]\n",
            "  [8.18238808e-01]]]\n"
          ]
        }
      ],
      "source": [
        "# Creating a data structure with 60 timesteps and 1 output\n",
        "X_train = []\n",
        "y_train = []\n",
        "for i in range(60, 2861):\n",
        "    X_train.append(training_set_scaled[i-60:i, 0])\n",
        "    y_train.append(training_set_scaled[i, 0])\n",
        "X_train, y_train = np.array(X_train), np.array(y_train)\n",
        "\n",
        "# Reshaping\n",
        "X_train = np.reshape(X_train, (X_train.shape[0], X_train.shape[1], 1))\n",
        "\n",
        "print(X_train)"
      ]
    },
    {
      "cell_type": "code",
      "execution_count": null,
      "metadata": {
        "id": "4mcXmrZlsmFe"
      },
      "outputs": [],
      "source": [
        "# Making the imports to make the neural network\n",
        "import tensorflow as tf \n",
        "from tensorflow import keras\n",
        "from tensorflow.keras.models import Sequential\n",
        "from tensorflow.keras.layers import Dense\n",
        "from tensorflow.keras.layers import LSTM\n",
        "from tensorflow.keras.layers import Dropout"
      ]
    },
    {
      "cell_type": "code",
      "execution_count": null,
      "metadata": {
        "id": "njv0ifcysmFf"
      },
      "outputs": [],
      "source": [
        "regressor = Sequential()\n",
        "\n",
        "# Adding the first LSTM layer and some Dropout regularisation\n",
        "regressor.add(LSTM(units = 50, return_sequences = True, input_shape = (X_train.shape[1], 1)))\n",
        "regressor.add(Dropout(0.2))\n",
        "\n",
        "# Adding a second LSTM layer and some Dropout regularisation\n",
        "regressor.add(LSTM(units = 50, return_sequences = True))\n",
        "regressor.add(Dropout(0.2))\n",
        "\n",
        "# Adding a third LSTM layer and some Dropout regularisation\n",
        "regressor.add(LSTM(units = 50, return_sequences = True))\n",
        "regressor.add(Dropout(0.2))\n",
        "\n",
        "# Adding a fourth LSTM layer and some Dropout regularisation\n",
        "regressor.add(LSTM(units = 50))\n",
        "regressor.add(Dropout(0.2))"
      ]
    },
    {
      "cell_type": "code",
      "execution_count": null,
      "metadata": {
        "colab": {
          "base_uri": "https://localhost:8080/"
        },
        "id": "s-PQXA1csmFh",
        "outputId": "d2e7e21d-9ef3-4120-ea2a-e20c03f35fbc"
      },
      "outputs": [
        {
          "output_type": "stream",
          "name": "stdout",
          "text": [
            "Epoch 1/10\n",
            "71/71 [==============================] - 16s 119ms/step - loss: 0.6651\n",
            "Epoch 2/10\n",
            "71/71 [==============================] - 8s 118ms/step - loss: 0.5400\n",
            "Epoch 3/10\n",
            "71/71 [==============================] - 12s 164ms/step - loss: 0.5191\n",
            "Epoch 4/10\n",
            "71/71 [==============================] - 12s 175ms/step - loss: 0.5109\n",
            "Epoch 5/10\n",
            "71/71 [==============================] - 8s 119ms/step - loss: 0.5077\n",
            "Epoch 6/10\n",
            "71/71 [==============================] - 8s 119ms/step - loss: 0.5047\n",
            "Epoch 7/10\n",
            "71/71 [==============================] - 8s 118ms/step - loss: 0.4914\n",
            "Epoch 8/10\n",
            "71/71 [==============================] - 8s 118ms/step - loss: 0.4898\n",
            "Epoch 9/10\n",
            "71/71 [==============================] - 8s 117ms/step - loss: 0.4796\n",
            "Epoch 10/10\n",
            "71/71 [==============================] - 8s 117ms/step - loss: 0.4561\n"
          ]
        }
      ],
      "source": [
        "# Compiling the model \n",
        "regressor.compile(optimizer='adam', loss='binary_crossentropy')\n",
        "\n",
        "# Fitting the model \n",
        "history = regressor.fit(X_train, y_train, epochs = 10, batch_size = 40)"
      ]
    },
    {
      "cell_type": "code",
      "execution_count": null,
      "metadata": {
        "colab": {
          "base_uri": "https://localhost:8080/",
          "height": 573
        },
        "id": "Y63wS-TZsmFi",
        "outputId": "b6defec9-b52a-4abe-b874-040b0a7ffd0d"
      },
      "outputs": [
        {
          "output_type": "display_data",
          "data": {
            "text/plain": [
              "<Figure size 432x288 with 1 Axes>"
            ],
            "image/png": "[encoded data removed]"
          },
          "metadata": {
            "needs_background": "light"
          }
        },
        {
          "output_type": "display_data",
          "data": {
            "text/plain": [
              "<Figure size 432x288 with 1 Axes>"
            ],
            "image/png": "[encoded data removed]"
          },
          "metadata": {
            "needs_background": "light"
          }
        }
      ],
      "source": [
        "# Plotting the loss of the model overtime\n",
        "import matplotlib.pyplot as plt\n",
        "\n",
        "\n",
        "def plot_graphs(history, string):\n",
        "    plt.plot(history.history[string], 'ro-')\n",
        "    plt.title(\"Loss Of The Model OverTime\")\n",
        "    plt.xlabel(\"Loss\")\n",
        "    plt.ylabel(string)\n",
        "    plt.show()\n",
        "    \n",
        "def plot_histogram(history, string):\n",
        "    plt.hist(history.history[string])\n",
        "    plt.title(\"Loss Of The Model OverTime\")\n",
        "    plt.xlabel(\"Loss\")\n",
        "    plt.ylabel(string)\n",
        "    plt.show()\n",
        "    \n",
        "plot_graphs(history, 'loss')\n",
        "plot_histogram(history, 'loss')"
      ]
    },
    {
      "cell_type": "code",
      "execution_count": null,
      "metadata": {
        "colab": {
          "base_uri": "https://localhost:8080/"
        },
        "id": "Jy6QGg-psmFk",
        "outputId": "ce076478-b33e-4438-fb93-fa21d6d40da0"
      },
      "outputs": [
        {
          "output_type": "stream",
          "name": "stdout",
          "text": [
            "Looking in indexes: https://pypi.org/simple, https://us-python.pkg.dev/colab-wheels/public/simple/\n",
            "Requirement already satisfied: pandas_datareader in /usr/local/lib/python3.7/dist-packages (0.9.0)\n",
            "Requirement already satisfied: lxml in /usr/local/lib/python3.7/dist-packages (from pandas_datareader) (4.9.1)\n",
            "Requirement already satisfied: pandas>=0.23 in /usr/local/lib/python3.7/dist-packages (from pandas_datareader) (1.3.5)\n",
            "Requirement already satisfied: requests>=2.19.0 in /usr/local/lib/python3.7/dist-packages (from pandas_datareader) (2.23.0)\n",
            "Requirement already satisfied: numpy>=1.17.3 in /usr/local/lib/python3.7/dist-packages (from pandas>=0.23->pandas_datareader) (1.21.6)\n",
            "Requirement already satisfied: pytz>=2017.3 in /usr/local/lib/python3.7/dist-packages (from pandas>=0.23->pandas_datareader) (2022.6)\n",
            "Requirement already satisfied: python-dateutil>=2.7.3 in /usr/local/lib/python3.7/dist-packages (from pandas>=0.23->pandas_datareader) (2.8.2)\n",
            "Requirement already satisfied: six>=1.5 in /usr/local/lib/python3.7/dist-packages (from python-dateutil>=2.7.3->pandas>=0.23->pandas_datareader) (1.15.0)\n",
            "Requirement already satisfied: urllib3!=1.25.0,!=1.25.1,<1.26,>=1.21.1 in /usr/local/lib/python3.7/dist-packages (from requests>=2.19.0->pandas_datareader) (1.24.3)\n",
            "Requirement already satisfied: certifi>=2017.4.17 in /usr/local/lib/python3.7/dist-packages (from requests>=2.19.0->pandas_datareader) (2022.9.24)\n",
            "Requirement already satisfied: idna<3,>=2.5 in /usr/local/lib/python3.7/dist-packages (from requests>=2.19.0->pandas_datareader) (2.10)\n",
            "Requirement already satisfied: chardet<4,>=3.0.2 in /usr/local/lib/python3.7/dist-packages (from requests>=2.19.0->pandas_datareader) (3.0.4)\n"
          ]
        }
      ],
      "source": [
        "!pip3 install pandas_datareader"
      ]
    },
    {
      "cell_type": "code",
      "execution_count": null,
      "metadata": {
        "id": "KGUTSdk0smFl"
      },
      "outputs": [],
      "source": [
        "import pandas_datareader as web"
      ]
    },
    {
      "cell_type": "code",
      "execution_count": null,
      "metadata": {
        "id": "KZFKkM-ismFm"
      },
      "outputs": [],
      "source": [
        "crypto_currency = 'BTC' \n",
        "against_currency = 'USD'"
      ]
    },
    {
      "cell_type": "code",
      "execution_count": null,
      "metadata": {
        "id": "JjW9AYgjsmFm"
      },
      "outputs": [],
      "source": [
        "test_start = dt.datetime(2020,1,1)\n",
        "test_end = dt.datetime.now()"
      ]
    },
    {
      "cell_type": "code",
      "execution_count": null,
      "metadata": {
        "id": "hSsF5iLPsmFn"
      },
      "outputs": [],
      "source": [
        "test_data = pd.read_csv('/content/BTC-USD.csv')"
      ]
    },
    {
      "cell_type": "code",
      "execution_count": null,
      "metadata": {
        "colab": {
          "base_uri": "https://localhost:8080/"
        },
        "id": "FPXN7eldsmFo",
        "outputId": "a3723080-a281-4158-a0c4-85c338f21562"
      },
      "outputs": [
        {
          "output_type": "stream",
          "name": "stdout",
          "text": [
            "           Date          Open          High           Low         Close  \\\n",
            "0    2021-11-10  66953.335938  68789.625000  63208.113281  64995.230469   \n",
            "1    2021-11-11  64978.890625  65579.015625  64180.488281  64949.960938   \n",
            "2    2021-11-12  64863.980469  65460.816406  62333.914063  64155.941406   \n",
            "3    2021-11-13  64158.121094  64915.675781  63303.734375  64469.527344   \n",
            "4    2021-11-14  64455.371094  65495.179688  63647.808594  65466.839844   \n",
            "..          ...           ...           ...           ...           ...   \n",
            "361  2022-11-06  21285.056641  21345.376953  20920.191406  20926.486328   \n",
            "362  2022-11-07  20924.621094  21053.246094  20489.972656  20602.816406   \n",
            "363  2022-11-08  20600.671875  20664.607422  17603.544922  18541.271484   \n",
            "364  2022-11-09  18543.761719  18590.458984  15682.692383  15880.780273   \n",
            "365  2022-11-10  15877.056641  17990.945313  15877.056641  17819.916016   \n",
            "\n",
            "        Adj Close        Volume  \n",
            "0    64995.230469   48730828378  \n",
            "1    64949.960938   35880633236  \n",
            "2    64155.941406   36084893887  \n",
            "3    64469.527344   30474228777  \n",
            "4    65466.839844   25122092191  \n",
            "..            ...           ...  \n",
            "361  20926.486328   35082693210  \n",
            "362  20602.816406   53510852236  \n",
            "363  18541.271484  118992465607  \n",
            "364  15880.780273  102905151606  \n",
            "365  17819.916016   86291906560  \n",
            "\n",
            "[366 rows x 7 columns]\n"
          ]
        }
      ],
      "source": [
        "print(test_data)"
      ]
    },
    {
      "cell_type": "code",
      "execution_count": null,
      "metadata": {
        "id": "b_hqLMrcsmFo"
      },
      "outputs": [],
      "source": [
        "total_dataset = pd.concat((training_set['Close'], test_data['Close']), axis=0) "
      ]
    },
    {
      "cell_type": "code",
      "execution_count": null,
      "metadata": {
        "id": "FRu-nefvsmFp"
      },
      "outputs": [],
      "source": [
        "actual_prices = test_data['Close'].values"
      ]
    },
    {
      "cell_type": "code",
      "execution_count": null,
      "metadata": {
        "id": "0ta8rxJQsmFq"
      },
      "outputs": [],
      "source": [
        "prediction_days = 60"
      ]
    },
    {
      "cell_type": "code",
      "execution_count": null,
      "metadata": {
        "id": "bDAua-x7smFq"
      },
      "outputs": [],
      "source": [
        "model_inputs = total_dataset[len(total_dataset) - len(test_data) - prediction_days:].values"
      ]
    },
    {
      "cell_type": "code",
      "execution_count": null,
      "metadata": {
        "id": "ahkyaxersmFr"
      },
      "outputs": [],
      "source": [
        "scaler = MinMaxScaler(feature_range = (0, 1))"
      ]
    },
    {
      "cell_type": "code",
      "execution_count": null,
      "metadata": {
        "id": "p1Ze8cBNsmFr"
      },
      "outputs": [],
      "source": [
        "model_inputs = model_inputs.reshape(-1, 1)"
      ]
    },
    {
      "cell_type": "code",
      "execution_count": null,
      "metadata": {
        "id": "Ha20AyK_smFs"
      },
      "outputs": [],
      "source": [
        "model_inputs = scaler.fit_transform(model_inputs)"
      ]
    },
    {
      "cell_type": "code",
      "execution_count": null,
      "metadata": {
        "colab": {
          "base_uri": "https://localhost:8080/"
        },
        "id": "RY-LO3BVsmFs",
        "outputId": "a481cfda-68d9-46bb-d4a6-ad7be8c5f057"
      },
      "outputs": [
        {
          "output_type": "stream",
          "name": "stdout",
          "text": [
            "[[0.26136727]\n",
            " [0.26460944]\n",
            " [0.27212026]\n",
            " [0.32764224]\n",
            " [0.34084669]\n",
            " [0.32450921]\n",
            " [0.36525687]\n",
            " [0.42236839]\n",
            " [0.47372714]\n",
            " [0.50249668]\n",
            " [0.49154473]\n",
            " [0.45326568]\n",
            " [0.39700424]\n",
            " [0.3638559 ]\n",
            " [0.43229043]\n",
            " [0.47002218]\n",
            " [0.42238859]\n",
            " [0.40933599]\n",
            " [0.40153418]\n",
            " [0.41845018]\n",
            " [0.40715125]\n",
            " [0.39662298]\n",
            " [0.30139354]\n",
            " [0.34535883]\n",
            " [0.32643978]\n",
            " [0.33091151]\n",
            " [0.33246467]\n",
            " [0.33656777]\n",
            " [0.29346488]\n",
            " [0.35464234]\n",
            " [0.37179013]\n",
            " [0.37084498]\n",
            " [0.34754884]\n",
            " [0.35607581]\n",
            " [0.39586749]\n",
            " [0.43543105]\n",
            " [0.42441937]\n",
            " [0.44898761]\n",
            " [0.47160897]\n",
            " [0.46429705]\n",
            " [0.61137513]\n",
            " [0.61711546]\n",
            " [0.58559612]\n",
            " [0.64591845]\n",
            " [0.63776132]\n",
            " [0.62970798]\n",
            " [0.66221253]\n",
            " [0.64663893]\n",
            " [0.67194472]\n",
            " [0.73141983]\n",
            " [0.72195727]\n",
            " [0.80682663]\n",
            " [0.81108966]\n",
            " [0.84013861]\n",
            " [0.77292971]\n",
            " [0.66437315]\n",
            " [0.68213835]\n",
            " [0.62947274]\n",
            " [0.61426498]\n",
            " [0.61121354]\n",
            " [0.99048907]\n",
            " [0.98957612]\n",
            " [0.97356317]\n",
            " [0.97988724]\n",
            " [1.        ]\n",
            " [0.96150191]\n",
            " [0.89300231]\n",
            " [0.89717215]\n",
            " [0.82808267]\n",
            " [0.85182808]\n",
            " [0.88364382]\n",
            " [0.86414804]\n",
            " [0.81491672]\n",
            " [0.84072609]\n",
            " [0.81473797]\n",
            " [0.83478905]\n",
            " [0.7600722 ]\n",
            " [0.78518636]\n",
            " [0.83426022]\n",
            " [0.84551558]\n",
            " [0.82935901]\n",
            " [0.83388453]\n",
            " [0.81871874]\n",
            " [0.76064656]\n",
            " [0.6719615 ]\n",
            " [0.67535246]\n",
            " [0.69983066]\n",
            " [0.70219949]\n",
            " [0.6982611 ]\n",
            " [0.64113465]\n",
            " [0.63248672]\n",
            " [0.67522461]\n",
            " [0.69006402]\n",
            " [0.62228579]\n",
            " [0.61976799]\n",
            " [0.66583114]\n",
            " [0.64099962]\n",
            " [0.61148969]\n",
            " [0.62453031]\n",
            " [0.62167141]\n",
            " [0.62516557]\n",
            " [0.66663561]\n",
            " [0.66042214]\n",
            " [0.70390265]\n",
            " [0.70466206]\n",
            " [0.69674984]\n",
            " [0.70440635]\n",
            " [0.70099617]\n",
            " [0.63945543]\n",
            " [0.61638152]\n",
            " [0.63117225]\n",
            " [0.61359312]\n",
            " [0.64143093]\n",
            " [0.63454202]\n",
            " [0.61665188]\n",
            " [0.60534743]\n",
            " [0.55838725]\n",
            " [0.55015764]\n",
            " [0.51782945]\n",
            " [0.52137962]\n",
            " [0.52496249]\n",
            " [0.52314061]\n",
            " [0.54158518]\n",
            " [0.56605267]\n",
            " [0.53867539]\n",
            " [0.54892281]\n",
            " [0.55048976]\n",
            " [0.54920877]\n",
            " [0.53179806]\n",
            " [0.53432059]\n",
            " [0.52158909]\n",
            " [0.50013326]\n",
            " [0.41496615]\n",
            " [0.38618656]\n",
            " [0.41132578]\n",
            " [0.41893928]\n",
            " [0.42498282]\n",
            " [0.42292816]\n",
            " [0.42869819]\n",
            " [0.44172802]\n",
            " [0.44886405]\n",
            " [0.44441566]\n",
            " [0.45582055]\n",
            " [0.46106695]\n",
            " [0.42496226]\n",
            " [0.42902827]\n",
            " [0.51667938]\n",
            " [0.5154752 ]\n",
            " [0.53506275]\n",
            " [0.56385817]\n",
            " [0.56946782]\n",
            " [0.57391164]\n",
            " [0.55830879]\n",
            " [0.53497208]\n",
            " [0.53167541]\n",
            " [0.53072851]\n",
            " [0.53858157]\n",
            " [0.57867923]\n",
            " [0.56630995]\n",
            " [0.49726136]\n",
            " [0.487036  ]\n",
            " [0.48887482]\n",
            " [0.45477698]\n",
            " [0.42742862]\n",
            " [0.45184569]\n",
            " [0.43189135]\n",
            " [0.4527851 ]\n",
            " [0.47056448]\n",
            " [0.46836487]\n",
            " [0.44022463]\n",
            " [0.55080913]\n",
            " [0.57423108]\n",
            " [0.56554881]\n",
            " [0.53585643]\n",
            " [0.46901943]\n",
            " [0.47432294]\n",
            " [0.45454719]\n",
            " [0.44732852]\n",
            " [0.46094587]\n",
            " [0.52640088]\n",
            " [0.4750666 ]\n",
            " [0.46210956]\n",
            " [0.46430855]\n",
            " [0.44304557]\n",
            " [0.47969074]\n",
            " [0.47307661]\n",
            " [0.50948088]\n",
            " [0.50559772]\n",
            " [0.52273514]\n",
            " [0.5305901 ]\n",
            " [0.51157612]\n",
            " [0.5081512 ]\n",
            " [0.5339813 ]\n",
            " [0.54475344]\n",
            " [0.56629128]\n",
            " [0.57411197]\n",
            " [0.57717931]\n",
            " [0.62395988]\n",
            " [0.63016146]\n",
            " [0.63697238]\n",
            " [0.62884375]\n",
            " [0.59810954]\n",
            " [0.61309296]\n",
            " [0.60477016]\n",
            " [0.61656011]\n",
            " [0.61997053]\n",
            " [0.59845876]\n",
            " [0.55108146]\n",
            " [0.55707325]\n",
            " [0.53254653]\n",
            " [0.54251854]\n",
            " [0.53093333]\n",
            " [0.47676953]\n",
            " [0.48897621]\n",
            " [0.50994071]\n",
            " [0.48511085]\n",
            " [0.497573  ]\n",
            " [0.49497186]\n",
            " [0.48070311]\n",
            " [0.50307354]\n",
            " [0.5167172 ]\n",
            " [0.51412834]\n",
            " [0.49704661]\n",
            " [0.48117435]\n",
            " [0.47606022]\n",
            " [0.47570855]\n",
            " [0.49565399]\n",
            " [0.44844621]\n",
            " [0.47110702]\n",
            " [0.4818501 ]\n",
            " [0.45837568]\n",
            " [0.44032728]\n",
            " [0.45553758]\n",
            " [0.45675232]\n",
            " [0.44104478]\n",
            " [0.48032836]\n",
            " [0.4173423 ]\n",
            " [0.40656874]\n",
            " [0.39569938]\n",
            " [0.36660476]\n",
            " [0.29073036]\n",
            " [0.30537062]\n",
            " [0.26329124]\n",
            " [0.26553777]\n",
            " [0.2702841 ]\n",
            " [0.28678394]\n",
            " [0.31106188]\n",
            " [0.28197719]\n",
            " [0.29332997]\n",
            " [0.25893348]\n",
            " [0.29108088]\n",
            " [0.26862308]\n",
            " [0.27329145]\n",
            " [0.29127022]\n",
            " [0.26656948]\n",
            " [0.27779593]\n",
            " [0.27591588]\n",
            " [0.26996387]\n",
            " [0.25706406]\n",
            " [0.26084186]\n",
            " [0.27356836]\n",
            " [0.31955776]\n",
            " [0.32088717]\n",
            " [0.28068977]\n",
            " [0.29416953]\n",
            " [0.27878017]\n",
            " [0.2813721 ]\n",
            " [0.28285938]\n",
            " [0.312384  ]\n",
            " [0.3080442 ]\n",
            " [0.28906461]\n",
            " [0.28700038]\n",
            " [0.26626484]\n",
            " [0.25168425]\n",
            " [0.21945418]\n",
            " [0.1332352 ]\n",
            " [0.12757643]\n",
            " [0.13495849]\n",
            " [0.09076886]\n",
            " [0.0925805 ]\n",
            " [0.06326097]\n",
            " [0.09422994]\n",
            " [0.09516297]\n",
            " [0.09740273]\n",
            " [0.08281055]\n",
            " [0.10497097]\n",
            " [0.10791089]\n",
            " [0.11336972]\n",
            " [0.10378955]\n",
            " [0.0979045 ]\n",
            " [0.08873168]\n",
            " [0.08516997]\n",
            " [0.07873072]\n",
            " [0.06833749]\n",
            " [0.06779074]\n",
            " [0.0688963 ]\n",
            " [0.08773598]\n",
            " [0.08690618]\n",
            " [0.09412859]\n",
            " [0.1160973 ]\n",
            " [0.1179835 ]\n",
            " [0.11518211]\n",
            " [0.10042478]\n",
            " [0.08247835]\n",
            " [0.06943754]\n",
            " [0.08734902]\n",
            " [0.09456568]\n",
            " [0.09993833]\n",
            " [0.10707719]\n",
            " [0.09878913]\n",
            " [0.13320093]\n",
            " [0.1514267 ]\n",
            " [0.14824635]\n",
            " [0.14689307]\n",
            " [0.13782499]\n",
            " [0.13279334]\n",
            " [0.13569104]\n",
            " [0.1105335 ]\n",
            " [0.1080742 ]\n",
            " [0.14217239]\n",
            " [0.16059164]\n",
            " [0.1598    ]\n",
            " [0.15680671]\n",
            " [0.15036719]\n",
            " [0.14990945]\n",
            " [0.1431317 ]\n",
            " [0.14047754]\n",
            " [0.13613053]\n",
            " [0.1494076 ]\n",
            " [0.14279213]\n",
            " [0.14712019]\n",
            " [0.15989789]\n",
            " [0.14688681]\n",
            " [0.16268408]\n",
            " [0.16288346]\n",
            " [0.17186359]\n",
            " [0.17229214]\n",
            " [0.17017996]\n",
            " [0.16650229]\n",
            " [0.1613863 ]\n",
            " [0.15034907]\n",
            " [0.14786329]\n",
            " [0.1007697 ]\n",
            " [0.10658803]\n",
            " [0.11401069]\n",
            " [0.11128386]\n",
            " [0.11388902]\n",
            " [0.11120543]\n",
            " [0.1153575 ]\n",
            " [0.08831594]\n",
            " [0.08391387]\n",
            " [0.07534445]\n",
            " [0.08908177]\n",
            " [0.07897438]\n",
            " [0.08407571]\n",
            " [0.08563617]\n",
            " [0.08246252]\n",
            " [0.07968586]\n",
            " [0.08280417]\n",
            " [0.07928823]\n",
            " [0.05963143]\n",
            " [0.06876013]\n",
            " [0.06955692]\n",
            " [0.11092577]\n",
            " [0.11696349]\n",
            " [0.11875264]\n",
            " [0.13087688]\n",
            " [0.08905581]\n",
            " [0.08793418]\n",
            " [0.07704647]\n",
            " [0.07848584]\n",
            " [0.08564496]\n",
            " [0.07136533]\n",
            " [0.0738786 ]\n",
            " [0.06070272]\n",
            " [0.05377762]\n",
            " [0.07124524]\n",
            " [0.06890764]\n",
            " [0.06163489]\n",
            " [0.05891409]\n",
            " [0.06739579]\n",
            " [0.06513457]\n",
            " [0.07151083]\n",
            " [0.07446187]\n",
            " [0.07161305]\n",
            " [0.0691992 ]\n",
            " [0.06379469]\n",
            " [0.07548089]\n",
            " [0.08986525]\n",
            " [0.0863133 ]\n",
            " [0.08217356]\n",
            " [0.07393347]\n",
            " [0.07130609]\n",
            " [0.07190822]\n",
            " [0.06575848]\n",
            " [0.06394212]\n",
            " [0.06608037]\n",
            " [0.07062719]\n",
            " [0.0666493 ]\n",
            " [0.06426916]\n",
            " [0.06831181]\n",
            " [0.07401228]\n",
            " [0.06964933]\n",
            " [0.06571917]\n",
            " [0.06398895]\n",
            " [0.06638334]\n",
            " [0.06710372]\n",
            " [0.07434   ]\n",
            " [0.06987432]\n",
            " [0.08500529]\n",
            " [0.09860959]\n",
            " [0.08883657]\n",
            " [0.09507856]\n",
            " [0.09957832]\n",
            " [0.09589032]\n",
            " [0.09307038]\n",
            " [0.09285862]\n",
            " [0.08628884]\n",
            " [0.08730696]\n",
            " [0.10620828]\n",
            " [0.10894012]\n",
            " [0.10175654]\n",
            " [0.09522911]\n",
            " [0.05365402]\n",
            " [0.        ]\n",
            " [0.03910647]]\n"
          ]
        }
      ],
      "source": [
        "print(model_inputs)"
      ]
    },
    {
      "cell_type": "code",
      "execution_count": null,
      "metadata": {
        "id": "-miIKYmIsmFs"
      },
      "outputs": [],
      "source": [
        "x_test = []"
      ]
    },
    {
      "cell_type": "code",
      "execution_count": null,
      "metadata": {
        "id": "7ug5-CJjsmFt"
      },
      "outputs": [],
      "source": [
        "for x in range(prediction_days, len(model_inputs)):\n",
        "    x_test.append(model_inputs[x-prediction_days:x, 0])"
      ]
    },
    {
      "cell_type": "code",
      "execution_count": null,
      "metadata": {
        "id": "n_mQE_LjsmFt"
      },
      "outputs": [],
      "source": [
        "x_test = np.array(x_test)\n",
        "\n",
        "x_test = np.reshape(x_test, (x_test.shape[0], x_test.shape[1], 1))"
      ]
    },
    {
      "cell_type": "code",
      "execution_count": null,
      "metadata": {
        "colab": {
          "base_uri": "https://localhost:8080/"
        },
        "id": "u2Jt4CuOsmFu",
        "outputId": "9de71524-0f81-4577-a4c1-e53e8a395bba"
      },
      "outputs": [
        {
          "output_type": "stream",
          "name": "stdout",
          "text": [
            "12/12 [==============================] - 2s 29ms/step\n"
          ]
        }
      ],
      "source": [
        "prediction_prices = regressor.predict(x_test)\n",
        "\n",
        "prediction_prices = scaler.inverse_transform(prediction_prices)"
      ]
    },
    {
      "cell_type": "code",
      "execution_count": null,
      "metadata": {
        "colab": {
          "base_uri": "https://localhost:8080/"
        },
        "id": "_OAvvviOsmFu",
        "outputId": "40271b33-ea59-4de4-a24f-08e1b31f569a"
      },
      "outputs": [
        {
          "output_type": "stream",
          "name": "stdout",
          "text": [
            "[[45088.215 44856.05  43031.008 ... 44678.25  42883.797 44064.902]\n",
            " [45348.207 45081.426 43333.785 ... 45077.32  43218.586 44387.48 ]\n",
            " [45616.836 45304.355 43611.977 ... 45459.938 43541.445 44698.96 ]\n",
            " ...\n",
            " [19357.904 18880.232 18949.502 ... 18954.154 18797.113 18706.271]\n",
            " [19433.557 18944.436 19022.318 ... 19013.902 18859.217 18760.885]\n",
            " [19493.115 18995.56  19090.37  ... 19067.352 18919.375 18815.559]]\n"
          ]
        }
      ],
      "source": [
        "print(prediction_prices)"
      ]
    },
    {
      "cell_type": "code",
      "execution_count": null,
      "metadata": {
        "colab": {
          "base_uri": "https://localhost:8080/",
          "height": 265
        },
        "id": "WliP7FTHsmFv",
        "outputId": "d0fe6bf2-ac2e-4fe6-fcef-a63c4fe87a03"
      },
      "outputs": [
        {
          "output_type": "display_data",
          "data": {
            "text/plain": [
              "<Figure size 432x288 with 1 Axes>"
            ],
            "image/png": "[encoded data removed]"
          },
          "metadata": {
            "needs_background": "light"
          }
        }
      ],
      "source": [
        "plt.plot(actual_prices, color='black', label='Actual Prices')\n",
        "plt.plot(prediction_prices, color='yellow', label='Prediction Prices')\n",
        "plt.show()\n"
      ]
    },
    {
      "cell_type": "markdown",
      "metadata": {
        "id": "g_f9QAF9smFw"
      },
      "source": [
        "# Prediction of the next day"
      ]
    },
    {
      "cell_type": "code",
      "execution_count": null,
      "metadata": {
        "id": "RqBoNoc_smF0"
      },
      "outputs": [],
      "source": [
        "real_data = [model_inputs[len(model_inputs) + 1 - prediction_days:len(model_inputs) + 1, 0]]"
      ]
    },
    {
      "cell_type": "code",
      "execution_count": null,
      "metadata": {
        "colab": {
          "base_uri": "https://localhost:8080/"
        },
        "id": "wHjbVXlfsmF0",
        "outputId": "13433c3a-3ca6-4df8-e10c-2f64e047df28"
      },
      "outputs": [
        {
          "output_type": "stream",
          "name": "stdout",
          "text": [
            "[[0.08905581]\n",
            " [0.08793418]\n",
            " [0.07704647]\n",
            " [0.07848584]\n",
            " [0.08564496]\n",
            " [0.07136533]\n",
            " [0.0738786 ]\n",
            " [0.06070272]\n",
            " [0.05377762]\n",
            " [0.07124524]\n",
            " [0.06890764]\n",
            " [0.06163489]\n",
            " [0.05891409]\n",
            " [0.06739579]\n",
            " [0.06513457]\n",
            " [0.07151083]\n",
            " [0.07446187]\n",
            " [0.07161305]\n",
            " [0.0691992 ]\n",
            " [0.06379469]\n",
            " [0.07548089]\n",
            " [0.08986525]\n",
            " [0.0863133 ]\n",
            " [0.08217356]\n",
            " [0.07393347]\n",
            " [0.07130609]\n",
            " [0.07190822]\n",
            " [0.06575848]\n",
            " [0.06394212]\n",
            " [0.06608037]\n",
            " [0.07062719]\n",
            " [0.0666493 ]\n",
            " [0.06426916]\n",
            " [0.06831181]\n",
            " [0.07401228]\n",
            " [0.06964933]\n",
            " [0.06571917]\n",
            " [0.06398895]\n",
            " [0.06638334]\n",
            " [0.06710372]\n",
            " [0.07434   ]\n",
            " [0.06987432]\n",
            " [0.08500529]\n",
            " [0.09860959]\n",
            " [0.08883657]\n",
            " [0.09507856]\n",
            " [0.09957832]\n",
            " [0.09589032]\n",
            " [0.09307038]\n",
            " [0.09285862]\n",
            " [0.08628884]\n",
            " [0.08730696]\n",
            " [0.10620828]\n",
            " [0.10894012]\n",
            " [0.10175654]\n",
            " [0.09522911]\n",
            " [0.05365402]\n",
            " [0.        ]\n",
            " [0.03910647]]\n"
          ]
        }
      ],
      "source": [
        "real_data = np.array(real_data)\n",
        "real_data = np.reshape(real_data, (real_data.shape[0], real_data.shape[1], 1))\n",
        "\n",
        "print(real_data[0])"
      ]
    },
    {
      "cell_type": "code",
      "execution_count": null,
      "metadata": {
        "colab": {
          "base_uri": "https://localhost:8080/"
        },
        "id": "cnRvnWA8smF1",
        "outputId": "3ff87e76-2a98-4330-d7e8-11f4dc45ae0b"
      },
      "outputs": [
        {
          "output_type": "stream",
          "name": "stdout",
          "text": [
            "1/1 [==============================] - 2s 2s/step\n",
            "Prediction: 19528.267578125\n",
            "\n",
            "\n",
            "\n",
            "\n",
            "\n",
            "[[19528.268 19026.283 19146.803 19199.322 19680.309 19422.973 18989.244\n",
            "  19503.785 19119.168 19502.299 19364.545 19334.469 19395.72  19210.428\n",
            "  19401.32  19458.035 19340.021 19650.592 18908.262 19326.58  19197.805\n",
            "  18789.31  19169.75  19173.377 19459.283 19423.865 19214.5   19523.05\n",
            "  18534.484 18987.701 19047.914 19664.922 18985.602 19331.898 19191.24\n",
            "  19320.75  13380.67  19574.34  19132.773 19051.807 19353.469 18897.535\n",
            "  19348.777 19014.43  19155.246 19025.582 19076.12  19108.803 18972.674\n",
            "  18866.736]]\n"
          ]
        }
      ],
      "source": [
        "prediction = regressor.predict(real_data)\n",
        "prediction = scaler.inverse_transform(prediction)\n",
        "print(f\"Prediction: {prediction[0][0]}\")\n",
        "print(\"\\n\\n\\n\\n\")\n",
        "print(prediction)"
      ]
    },
    {
      "cell_type": "code",
      "execution_count": null,
      "metadata": {
        "id": "pTFAIf1osmF2"
      },
      "outputs": [],
      "source": []
    },
    {
      "cell_type": "code",
      "execution_count": null,
      "metadata": {
        "id": "FdIgInussmF2"
      },
      "outputs": [],
      "source": []
    },
    {
      "cell_type": "code",
      "execution_count": null,
      "metadata": {
        "id": "zzuLb2bdsmF2"
      },
      "outputs": [],
      "source": []
    }
  ],
  "metadata": {
    "kernelspec": {
      "display_name": "Python 3",
      "language": "python",
      "name": "python3"
    },
    "language_info": {
      "codemirror_mode": {
        "name": "ipython",
        "version": 3
      },
      "file_extension": ".py",
      "mimetype": "text/x-python",
      "name": "python",
      "nbconvert_exporter": "python",
      "pygments_lexer": "ipython3",
      "version": "3.8.5"
    },
    "colab": {
      "provenance": [],
      "collapsed_sections": [],
      "toc_visible": true
    }
  },
  "nbformat": 4,
  "nbformat_minor": 0
}